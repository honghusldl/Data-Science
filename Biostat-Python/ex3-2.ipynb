{
 "cells": [
  {
   "cell_type": "code",
   "execution_count": 2,
   "metadata": {},
   "outputs": [],
   "source": [
    "import numpy as np\n",
    "import pandas as pd\n",
    "from sklearn.datasets import load_diabetes"
   ]
  },
  {
   "cell_type": "code",
   "execution_count": 3,
   "metadata": {},
   "outputs": [],
   "source": [
    "diabet = load_diabetes()\n",
    "num_diabet = diabet.data\n",
    "outcome = diabet.target\n",
    "var_names = diabet.feature_names"
   ]
  },
  {
   "cell_type": "code",
   "execution_count": 4,
   "metadata": {},
   "outputs": [
    {
     "data": {
      "text/plain": [
       "(442, 10)"
      ]
     },
     "execution_count": 4,
     "metadata": {},
     "output_type": "execute_result"
    }
   ],
   "source": [
    "num_diabet.shape"
   ]
  },
  {
   "cell_type": "code",
   "execution_count": 5,
   "metadata": {},
   "outputs": [
    {
     "data": {
      "text/plain": [
       "(442,)"
      ]
     },
     "execution_count": 5,
     "metadata": {},
     "output_type": "execute_result"
    }
   ],
   "source": [
    "outcome.shape"
   ]
  },
  {
   "cell_type": "code",
   "execution_count": 6,
   "metadata": {},
   "outputs": [
    {
     "data": {
      "text/plain": [
       "['age', 'sex', 'bmi', 'bp', 's1', 's2', 's3', 's4', 's5', 's6']"
      ]
     },
     "execution_count": 6,
     "metadata": {},
     "output_type": "execute_result"
    }
   ],
   "source": [
    "var_names"
   ]
  },
  {
   "cell_type": "code",
   "execution_count": 7,
   "metadata": {},
   "outputs": [
    {
     "data": {
      "text/plain": [
       "152.13348416289594"
      ]
     },
     "execution_count": 7,
     "metadata": {},
     "output_type": "execute_result"
    }
   ],
   "source": [
    "outcome_mean = outcome.mean()\n",
    "outcome_mean"
   ]
  },
  {
   "cell_type": "code",
   "execution_count": 10,
   "metadata": {},
   "outputs": [
    {
     "data": {
      "text/plain": [
       "140.5"
      ]
     },
     "execution_count": 10,
     "metadata": {},
     "output_type": "execute_result"
    }
   ],
   "source": [
    "outcome_median = np.median(outcome)\n",
    "outcome_median\n"
   ]
  },
  {
   "cell_type": "code",
   "execution_count": 12,
   "metadata": {},
   "outputs": [
    {
     "data": {
      "text/plain": [
       "294"
      ]
     },
     "execution_count": 12,
     "metadata": {},
     "output_type": "execute_result"
    }
   ],
   "source": [
    "# numer of elements in outcome greater than 100\n",
    "greater_100 = np.count_nonzero(outcome > 100,axis = 0)\n",
    "greater_100"
   ]
  },
  {
   "cell_type": "code",
   "execution_count": 21,
   "metadata": {},
   "outputs": [
    {
     "data": {
      "text/plain": [
       "58"
      ]
     },
     "execution_count": 21,
     "metadata": {},
     "output_type": "execute_result"
    }
   ],
   "source": [
    "ages = []\n",
    "for i in range(len(num_diabet)):\n",
    "    age = num_diabet[i][0]\n",
    "    ages.append(age)\n",
    "ages = np.array(ages)\n",
    "\n",
    "# number of unique age values in num_diabet\n",
    "unique_age = len(np.unique(ages))\n",
    "unique_age\n"
   ]
  },
  {
   "cell_type": "code",
   "execution_count": 22,
   "metadata": {},
   "outputs": [
    {
     "data": {
      "text/plain": [
       "array([-0.03729927,  0.00538306,  0.03807591])"
      ]
     },
     "execution_count": 22,
     "metadata": {},
     "output_type": "execute_result"
    }
   ],
   "source": [
    "perc_age = []\n",
    "for i in range(1,4):\n",
    "    p = np.percentile(ages, 25*i,axis=0)\n",
    "    perc_age.append(p)\n",
    "perc_age = np.array(perc_age)\n",
    "perc_age\n"
   ]
  },
  {
   "cell_type": "code",
   "execution_count": 35,
   "metadata": {},
   "outputs": [
    {
     "data": {
      "text/plain": [
       "array([3, 1, 3, 0, 2, 0, 0, 3, 3, 0, 0, 2, 2, 2, 3, 0, 1, 3, 0, 1, 0, 0,\n",
       "       0, 3, 0, 0, 0, 1, 3, 3, 0, 1, 2, 2, 2, 3, 2, 1, 1, 1, 2, 0, 0, 2,\n",
       "       3, 2, 0, 0, 3, 0, 2, 3, 0, 1, 0, 0, 0, 1, 3, 3, 0, 0, 1, 1, 3, 0,\n",
       "       1, 3, 3, 2, 1, 1, 3, 2, 2, 1, 1, 0, 2, 0, 3, 2, 1, 0, 1, 3, 0, 3,\n",
       "       0, 0, 2, 3, 1, 0, 0, 0, 3, 1, 1, 1, 2, 2, 0, 3, 1, 2, 0, 2, 2, 3,\n",
       "       3, 2, 0, 2, 2, 1, 3, 3, 0, 2, 0, 3, 3, 2, 1, 1, 0, 2, 0, 2, 0, 0,\n",
       "       2, 0, 0, 1, 0, 2, 2, 2, 3, 1, 3, 1, 2, 0, 1, 0, 0, 0, 2, 1, 1, 3,\n",
       "       3, 1, 1, 1, 1, 1, 1, 0, 0, 2, 3, 0, 0, 3, 1, 1, 2, 1, 3, 0, 2, 3,\n",
       "       3, 3, 3, 1, 0, 3, 3, 3, 2, 0, 0, 0, 2, 1, 2, 1, 3, 2, 0, 2, 1, 3,\n",
       "       0, 3, 3, 1, 3, 1, 3, 1, 1, 2, 2, 3, 2, 3, 3, 1, 2, 2, 2, 3, 0, 0,\n",
       "       2, 0, 1, 0, 1, 2, 0, 3, 0, 1, 0, 2, 2, 3, 3, 3, 2, 3, 2, 2, 3, 2,\n",
       "       0, 2, 0, 1, 3, 0, 0, 1, 3, 0, 2, 3, 2, 1, 0, 1, 3, 2, 3, 3, 1, 0,\n",
       "       2, 1, 0, 3, 3, 2, 2, 3, 2, 3, 2, 1, 2, 1, 3, 3, 2, 0, 3, 1, 3, 2,\n",
       "       0, 3, 3, 0, 3, 3, 2, 0, 2, 0, 3, 1, 2, 3, 2, 1, 2, 3, 3, 1, 2, 3,\n",
       "       1, 1, 1, 3, 0, 3, 1, 2, 2, 2, 3, 2, 1, 3, 2, 3, 2, 1, 3, 3, 0, 1,\n",
       "       2, 3, 2, 2, 0, 2, 1, 2, 0, 2, 1, 2, 3, 1, 0, 3, 2, 3, 2, 1, 1, 0,\n",
       "       2, 0, 1, 0, 1, 0, 1, 3, 2, 3, 2, 0, 1, 2, 0, 1, 1, 1, 2, 3, 1, 0,\n",
       "       0, 3, 1, 2, 2, 1, 2, 0, 3, 2, 2, 2, 2, 0, 3, 1, 2, 1, 0, 0, 2, 0,\n",
       "       0, 3, 2, 3, 1, 2, 3, 1, 1, 3, 0, 2, 3, 0, 1, 2, 3, 0, 3, 1, 1, 0,\n",
       "       2, 1, 2, 3, 0, 2, 1, 0, 2, 1, 3, 0, 1, 3, 2, 1, 2, 1, 0, 3, 1, 3,\n",
       "       0, 0])"
      ]
     },
     "execution_count": 35,
     "metadata": {},
     "output_type": "execute_result"
    }
   ],
   "source": [
    "age_category = []\n",
    "for i in range(len(ages)):\n",
    "    if ages[i] < perc_age[0]:\n",
    "        age_category.append(0)\n",
    "    elif ages[i] < perc_age[1]:\n",
    "        age_category.append(1)\n",
    "    elif ages[i] < perc_age[2]:\n",
    "        age_category.append(2)\n",
    "    elif ages[i] >= perc_age[2]:\n",
    "        age_category.append(3)\n",
    "age_category = np.array(age_category)\n",
    "#np.unique(age_category,return_counts = True)\n",
    "age_category\n",
    "        "
   ]
  },
  {
   "cell_type": "code",
   "execution_count": 41,
   "metadata": {},
   "outputs": [
    {
     "data": {
      "text/html": [
       "<div>\n",
       "<style scoped>\n",
       "    .dataframe tbody tr th:only-of-type {\n",
       "        vertical-align: middle;\n",
       "    }\n",
       "\n",
       "    .dataframe tbody tr th {\n",
       "        vertical-align: top;\n",
       "    }\n",
       "\n",
       "    .dataframe thead th {\n",
       "        text-align: right;\n",
       "    }\n",
       "</style>\n",
       "<table border=\"1\" class=\"dataframe\">\n",
       "  <thead>\n",
       "    <tr style=\"text-align: right;\">\n",
       "      <th></th>\n",
       "      <th>age_category</th>\n",
       "      <th>outcome</th>\n",
       "    </tr>\n",
       "  </thead>\n",
       "  <tbody>\n",
       "    <tr>\n",
       "      <th>0</th>\n",
       "      <td>3</td>\n",
       "      <td>151.0</td>\n",
       "    </tr>\n",
       "    <tr>\n",
       "      <th>1</th>\n",
       "      <td>1</td>\n",
       "      <td>75.0</td>\n",
       "    </tr>\n",
       "    <tr>\n",
       "      <th>2</th>\n",
       "      <td>3</td>\n",
       "      <td>141.0</td>\n",
       "    </tr>\n",
       "    <tr>\n",
       "      <th>3</th>\n",
       "      <td>0</td>\n",
       "      <td>206.0</td>\n",
       "    </tr>\n",
       "    <tr>\n",
       "      <th>4</th>\n",
       "      <td>2</td>\n",
       "      <td>135.0</td>\n",
       "    </tr>\n",
       "    <tr>\n",
       "      <th>...</th>\n",
       "      <td>...</td>\n",
       "      <td>...</td>\n",
       "    </tr>\n",
       "    <tr>\n",
       "      <th>437</th>\n",
       "      <td>3</td>\n",
       "      <td>178.0</td>\n",
       "    </tr>\n",
       "    <tr>\n",
       "      <th>438</th>\n",
       "      <td>1</td>\n",
       "      <td>104.0</td>\n",
       "    </tr>\n",
       "    <tr>\n",
       "      <th>439</th>\n",
       "      <td>3</td>\n",
       "      <td>132.0</td>\n",
       "    </tr>\n",
       "    <tr>\n",
       "      <th>440</th>\n",
       "      <td>0</td>\n",
       "      <td>220.0</td>\n",
       "    </tr>\n",
       "    <tr>\n",
       "      <th>441</th>\n",
       "      <td>0</td>\n",
       "      <td>57.0</td>\n",
       "    </tr>\n",
       "  </tbody>\n",
       "</table>\n",
       "<p>442 rows × 2 columns</p>\n",
       "</div>"
      ],
      "text/plain": [
       "     age_category  outcome\n",
       "0               3    151.0\n",
       "1               1     75.0\n",
       "2               3    141.0\n",
       "3               0    206.0\n",
       "4               2    135.0\n",
       "..            ...      ...\n",
       "437             3    178.0\n",
       "438             1    104.0\n",
       "439             3    132.0\n",
       "440             0    220.0\n",
       "441             0     57.0\n",
       "\n",
       "[442 rows x 2 columns]"
      ]
     },
     "execution_count": 41,
     "metadata": {},
     "output_type": "execute_result"
    }
   ],
   "source": [
    "df = pd.DataFrame({'age_category' : age_category,'outcome' : outcome})\n",
    "df"
   ]
  },
  {
   "cell_type": "code",
   "execution_count": 42,
   "metadata": {},
   "outputs": [
    {
     "data": {
      "text/html": [
       "<div>\n",
       "<style scoped>\n",
       "    .dataframe tbody tr th:only-of-type {\n",
       "        vertical-align: middle;\n",
       "    }\n",
       "\n",
       "    .dataframe tbody tr th {\n",
       "        vertical-align: top;\n",
       "    }\n",
       "\n",
       "    .dataframe thead th {\n",
       "        text-align: right;\n",
       "    }\n",
       "</style>\n",
       "<table border=\"1\" class=\"dataframe\">\n",
       "  <thead>\n",
       "    <tr style=\"text-align: right;\">\n",
       "      <th></th>\n",
       "      <th>age_category</th>\n",
       "      <th>outcome</th>\n",
       "    </tr>\n",
       "  </thead>\n",
       "  <tbody>\n",
       "    <tr>\n",
       "      <th>0</th>\n",
       "      <td>0</td>\n",
       "      <td>135.549550</td>\n",
       "    </tr>\n",
       "    <tr>\n",
       "      <th>1</th>\n",
       "      <td>1</td>\n",
       "      <td>137.961165</td>\n",
       "    </tr>\n",
       "    <tr>\n",
       "      <th>2</th>\n",
       "      <td>2</td>\n",
       "      <td>164.773913</td>\n",
       "    </tr>\n",
       "    <tr>\n",
       "      <th>3</th>\n",
       "      <td>3</td>\n",
       "      <td>168.477876</td>\n",
       "    </tr>\n",
       "  </tbody>\n",
       "</table>\n",
       "</div>"
      ],
      "text/plain": [
       "   age_category     outcome\n",
       "0             0  135.549550\n",
       "1             1  137.961165\n",
       "2             2  164.773913\n",
       "3             3  168.477876"
      ]
     },
     "execution_count": 42,
     "metadata": {},
     "output_type": "execute_result"
    }
   ],
   "source": [
    "df.groupby(age_category).mean()"
   ]
  },
  {
   "cell_type": "code",
   "execution_count": null,
   "metadata": {},
   "outputs": [],
   "source": []
  }
 ],
 "metadata": {
  "interpreter": {
   "hash": "08b797257b4219f3d866f80703597b0eb83f1503315d7d78848ef7fe091a413a"
  },
  "kernelspec": {
   "display_name": "Python 3.9.5 64-bit",
   "name": "python3"
  },
  "language_info": {
   "codemirror_mode": {
    "name": "ipython",
    "version": 3
   },
   "file_extension": ".py",
   "mimetype": "text/x-python",
   "name": "python",
   "nbconvert_exporter": "python",
   "pygments_lexer": "ipython3",
   "version": "3.9.5"
  },
  "orig_nbformat": 4
 },
 "nbformat": 4,
 "nbformat_minor": 2
}
